{
  "nbformat": 4,
  "nbformat_minor": 0,
  "metadata": {
    "colab": {
      "provenance": [],
      "authorship_tag": "ABX9TyOrqVMdERx5an8aQ+aAVPLZ",
      "include_colab_link": true
    },
    "kernelspec": {
      "name": "python3",
      "display_name": "Python 3"
    },
    "language_info": {
      "name": "python"
    }
  },
  "cells": [
    {
      "cell_type": "markdown",
      "metadata": {
        "id": "view-in-github",
        "colab_type": "text"
      },
      "source": [
        "<a href=\"https://colab.research.google.com/github/bluepeach1121/Pytorch_tutorials/blob/main/01pytorch.ipynb\" target=\"_parent\"><img src=\"https://colab.research.google.com/assets/colab-badge.svg\" alt=\"Open In Colab\"/></a>"
      ]
    },
    {
      "cell_type": "code",
      "execution_count": null,
      "metadata": {
        "colab": {
          "base_uri": "https://localhost:8080/"
        },
        "id": "VD7hCgAzBLw1",
        "outputId": "e11cd927-8c9b-4314-a103-0bb09b24c62b"
      },
      "outputs": [
        {
          "output_type": "execute_result",
          "data": {
            "text/plain": [
              "{1: 'data (prepare and load)',\n",
              " 2: 'build model',\n",
              " 3: 'fitting the model to the data',\n",
              " 4: 'making predictions and evaluating a model (inference)',\n",
              " 5: 'saving and loading a model',\n",
              " 6: 'putting it all together'}"
            ]
          },
          "metadata": {},
          "execution_count": 5
        }
      ],
      "source": [
        "what_were_covering = {1: 'data (prepare and load)',\n",
        "                      2: 'build model',\n",
        "                      3: 'fitting the model to the data',\n",
        "                      4: 'making predictions and evaluating a model (inference)',\n",
        "                      5: 'saving and loading a model',\n",
        "                      6: 'putting it all together'}\n",
        "what_were_covering"
      ]
    },
    {
      "cell_type": "code",
      "source": [
        "import torch\n",
        "from torch import nn #contains all of pythons building blocks for ML\n",
        "import matplotlib.pyplot as plt\n"
      ],
      "metadata": {
        "id": "d6aMijvXDBr3"
      },
      "execution_count": null,
      "outputs": []
    },
    {
      "cell_type": "markdown",
      "source": [
        "1. convert data into numerical format\n",
        "2. build a model to learn pattern in numbers\n",
        "*lets create a model with linear regression*\n",
        "we'll use a linear regression formula to make a straight line with known parameters"
      ],
      "metadata": {
        "id": "LAER6MpeHdWW"
      }
    },
    {
      "cell_type": "code",
      "source": [
        "#create known parameters\n",
        "weight = 0.7\n",
        "bias = 0.3\n",
        "\n",
        "#create\n",
        "start = 0\n",
        "end = 1\n",
        "step = 0.02 #learning rate\n",
        "X = torch.arange(start, end, step).unsqueeze(dim=1)\n",
        "y = weight * X + bias\n",
        "\n",
        "X[:10], y[:10], len(X), len(y)"
      ],
      "metadata": {
        "colab": {
          "base_uri": "https://localhost:8080/"
        },
        "id": "yEnGWAlvILxo",
        "outputId": "263c4805-8d85-48c6-9379-59e48eed0f0e"
      },
      "execution_count": null,
      "outputs": [
        {
          "output_type": "execute_result",
          "data": {
            "text/plain": [
              "(tensor([[0.0000],\n",
              "         [0.0200],\n",
              "         [0.0400],\n",
              "         [0.0600],\n",
              "         [0.0800],\n",
              "         [0.1000],\n",
              "         [0.1200],\n",
              "         [0.1400],\n",
              "         [0.1600],\n",
              "         [0.1800]]),\n",
              " tensor([[0.3000],\n",
              "         [0.3140],\n",
              "         [0.3280],\n",
              "         [0.3420],\n",
              "         [0.3560],\n",
              "         [0.3700],\n",
              "         [0.3840],\n",
              "         [0.3980],\n",
              "         [0.4120],\n",
              "         [0.4260]]),\n",
              " 50,\n",
              " 50)"
            ]
          },
          "metadata": {},
          "execution_count": 19
        }
      ]
    },
    {
      "cell_type": "markdown",
      "source": [
        "### splitting data into training and test sets (one of the most important concepts in ML/ data science)"
      ],
      "metadata": {
        "id": "GdaD4JfJOW9I"
      }
    },
    {
      "cell_type": "code",
      "source": [
        "#create a train/test split\n",
        "train_split = int(0.8 * len(X))\n",
        "X_train, y_train = X[:train_split], y[:train_split]\n",
        "X_test, y_test = X[train_split:], y[train_split:]\n",
        "\n",
        "len(X_train), len(y_train), len(X_test), len(y_test)"
      ],
      "metadata": {
        "colab": {
          "base_uri": "https://localhost:8080/"
        },
        "id": "MhmJjcH7hACw",
        "outputId": "366f4b64-8762-40d2-e46c-cdc4b527e067"
      },
      "execution_count": null,
      "outputs": [
        {
          "output_type": "execute_result",
          "data": {
            "text/plain": [
              "(40, 40, 10, 10)"
            ]
          },
          "metadata": {},
          "execution_count": 20
        }
      ]
    },
    {
      "cell_type": "markdown",
      "source": [
        "how might we better visualize data."
      ],
      "metadata": {
        "id": "0tDVOO0wh9gu"
      }
    },
    {
      "cell_type": "code",
      "source": [
        "def plot_predictions(train_data = X_train,\n",
        "                     train_labels = y_train,\n",
        "                     test_data = X_test,\n",
        "                     test_labels = y_test,\n",
        "                     predictions = None):\n",
        "    \"\"\"\n",
        "    plots training data, test data nad compares predictions.\n",
        "    \"\"\"\n",
        "\n",
        "    plt.figure(figsize=(10, 7))\n",
        "\n",
        "    #plot training data in blue\n",
        "    plt.scatter(train_data, train_labels, c='b', s=4, label=\"training data\")\n",
        "\n",
        "    #plot test data in green\n",
        "    plt.scatter(test_data, test_labels, c='g', s=4, label='Testing data')\n",
        "\n",
        "    #are there predictions?\n",
        "    if predictions is not None:\n",
        "        #plot the predictions if they exist\n",
        "        plt.scatter(test_data, predictions, c='r', s=4, label='Predictions')\n",
        "\n",
        "    #show the legend\n",
        "    plt.legend(prop={'size': 14})\n",
        "\n"
      ],
      "metadata": {
        "id": "YDetAa4qigHI"
      },
      "execution_count": null,
      "outputs": []
    },
    {
      "cell_type": "code",
      "source": [
        "plot_predictions();"
      ],
      "metadata": {
        "id": "_0ezcY_sphD7",
        "colab": {
          "base_uri": "https://localhost:8080/",
          "height": 599
        },
        "outputId": "db9f6703-89e7-4b7b-dfeb-63ca42a0b111"
      },
      "execution_count": null,
      "outputs": [
        {
          "output_type": "display_data",
          "data": {
            "text/plain": [
              "<Figure size 1000x700 with 1 Axes>"
            ],
            "image/png": "[encoded data removed]"
          },
          "metadata": {}
        }
      ]
    },
    {
      "cell_type": "markdown",
      "source": [
        "we are going to build a model to predict future values"
      ],
      "metadata": {
        "id": "JCziZtr2ugwe"
      }
    },
    {
      "cell_type": "markdown",
      "source": [
        "## 2. build model\n",
        "\n",
        "our first pytorch model\n",
        "\n",
        "what our model does:\n",
        "* start with random values (weight & bias)\n",
        "* look at training data and adjust the random values to better represent the ideal values used to create the data.\n",
        "\n",
        "How does it do so?\n",
        "through 2 main algorithms:\n",
        "1. gradient descent\n",
        "2. backpropagation\n",
        "\n",
        "**note:** `nn.Module` is a subclass. `forward(*input)` defines the computation performed at every cell. any subclass of `nn.module` needs to override `forward()`\n",
        "\n",
        "#pytorch model building essentials\n",
        "\n",
        "* torch.nn --> contains all of the building blocks for computational graphs\n",
        "* torch.nn.parameter - what parameters should our model try to learn, often a pytorch layer from torch.nn will set these for us.\n",
        "* torch.nn.Module -- the base class for all neural network modules, if you subclass it, you should override forward()\n",
        "* torch.optim -- this is where the optimizers in pytorch are, they help with gradient descent.\n",
        "* def forward() --> all nn.module subclasses require you to overwrite forward(), this method defines what happens in the forward computation"
      ],
      "metadata": {
        "id": "4qvEMvDRuqI0"
      }
    },
    {
      "cell_type": "markdown",
      "source": [
        "### checking the contents of our pytorch model\n",
        " * we can our model parameters or whats inside our model using `nn.parameter()`.\n"
      ],
      "metadata": {
        "id": "EvrLRWZVXgGO"
      }
    },
    {
      "cell_type": "code",
      "source": [
        "import torch\n",
        "from torch import nn\n",
        "\n",
        "# Define the model\n",
        "class LinearRegressionModel(nn.Module):\n",
        "    def __init__(self):\n",
        "        super().__init__()\n",
        "        self.weights = nn.Parameter(torch.randn(1, # start with a random weight and try to ad\n",
        "                                                requires_grad=True,\n",
        "                                                dtype=torch.float))\n",
        "\n",
        "        self.bias = nn.Parameter(torch.randn(1,\n",
        "                                             requires_grad=True,\n",
        "                                             dtype=torch.float))\n",
        "\n",
        "    #forward method to define the computation in the model\n",
        "    def forward(self, x: torch.Tensor) -> torch.Tensor:\n",
        "        return self.weights * x + self.bias\n",
        "\n",
        "# Set the random seed\n",
        "torch.manual_seed(42)\n",
        "\n",
        "# Instantiate the model\n",
        "model_0 = LinearRegressionModel()\n",
        "\n",
        "# Print the parameters\n",
        "list(model_0.parameters())\n"
      ],
      "metadata": {
        "colab": {
          "base_uri": "https://localhost:8080/"
        },
        "id": "8cQlY16EGRu8",
        "outputId": "080de286-e1ad-48fa-a755-4a9ee85bc94e"
      },
      "execution_count": 63,
      "outputs": [
        {
          "output_type": "execute_result",
          "data": {
            "text/plain": [
              "[Parameter containing:\n",
              " tensor([0.3367], requires_grad=True),\n",
              " Parameter containing:\n",
              " tensor([0.1288], requires_grad=True)]"
            ]
          },
          "metadata": {},
          "execution_count": 63
        }
      ]
    },
    {
      "cell_type": "code",
      "source": [
        "# list named parameters\n",
        "model_0.state_dict()"
      ],
      "metadata": {
        "colab": {
          "base_uri": "https://localhost:8080/"
        },
        "id": "3veiY7EE7cJe",
        "outputId": "4df404e9-0abb-4168-b16d-a395c50eda9b"
      },
      "execution_count": 64,
      "outputs": [
        {
          "output_type": "execute_result",
          "data": {
            "text/plain": [
              "OrderedDict([('weights', tensor([0.3367])), ('bias', tensor([0.1288]))])"
            ]
          },
          "metadata": {},
          "execution_count": 64
        }
      ]
    },
    {
      "cell_type": "markdown",
      "source": [
        "# making prediction using `torch.inference_mode()`\n",
        "to check our model's predictive power, lets see how well it predicts `y_test` based on `X_test`\n",
        "\n",
        "when we pass data through our model, its going to run it through the `forward()` method"
      ],
      "metadata": {
        "id": "IyyLmT2c-Xss"
      }
    },
    {
      "cell_type": "code",
      "source": [
        "print(f\"{X_test} {y_test}\")"
      ],
      "metadata": {
        "colab": {
          "base_uri": "https://localhost:8080/"
        },
        "id": "h9bUz4xUR5MC",
        "outputId": "8dc2998b-1c02-45b9-cc68-f329760c3a11"
      },
      "execution_count": 65,
      "outputs": [
        {
          "output_type": "stream",
          "name": "stdout",
          "text": [
            "tensor([[0.8000],\n",
            "        [0.8200],\n",
            "        [0.8400],\n",
            "        [0.8600],\n",
            "        [0.8800],\n",
            "        [0.9000],\n",
            "        [0.9200],\n",
            "        [0.9400],\n",
            "        [0.9600],\n",
            "        [0.9800]]) tensor([[0.8600],\n",
            "        [0.8740],\n",
            "        [0.8880],\n",
            "        [0.9020],\n",
            "        [0.9160],\n",
            "        [0.9300],\n",
            "        [0.9440],\n",
            "        [0.9580],\n",
            "        [0.9720],\n",
            "        [0.9860]])\n"
          ]
        }
      ]
    },
    {
      "cell_type": "code",
      "source": [
        "#make predictions with model\n",
        "with torch.inference_mode():\n",
        "    y_preds = model_0(X_test) #takes in X_test as inputs and returns y_test\n",
        "\n",
        "y_preds"
      ],
      "metadata": {
        "colab": {
          "base_uri": "https://localhost:8080/"
        },
        "id": "BzQZZf79Rhy6",
        "outputId": "8cc19f4e-8549-4655-bf41-b1d97403c58c"
      },
      "execution_count": 69,
      "outputs": [
        {
          "output_type": "execute_result",
          "data": {
            "text/plain": [
              "tensor([[0.3982],\n",
              "        [0.4049],\n",
              "        [0.4116],\n",
              "        [0.4184],\n",
              "        [0.4251],\n",
              "        [0.4318],\n",
              "        [0.4386],\n",
              "        [0.4453],\n",
              "        [0.4520],\n",
              "        [0.4588]])"
            ]
          },
          "metadata": {},
          "execution_count": 69
        }
      ]
    },
    {
      "cell_type": "code",
      "source": [
        "y_test"
      ],
      "metadata": {
        "colab": {
          "base_uri": "https://localhost:8080/"
        },
        "id": "M4dsLjiqSZ_D",
        "outputId": "eb33c5d3-3bb7-456d-fe9c-09ce1ac02913"
      },
      "execution_count": 70,
      "outputs": [
        {
          "output_type": "execute_result",
          "data": {
            "text/plain": [
              "tensor([[0.8600],\n",
              "        [0.8740],\n",
              "        [0.8880],\n",
              "        [0.9020],\n",
              "        [0.9160],\n",
              "        [0.9300],\n",
              "        [0.9440],\n",
              "        [0.9580],\n",
              "        [0.9720],\n",
              "        [0.9860]])"
            ]
          },
          "metadata": {},
          "execution_count": 70
        }
      ]
    },
    {
      "cell_type": "code",
      "source": [
        "plot_predictions(predictions= y_preds)"
      ],
      "metadata": {
        "colab": {
          "base_uri": "https://localhost:8080/",
          "height": 599
        },
        "id": "fkar6LtQTlls",
        "outputId": "35e1c5d4-6c4c-408d-a246-d782dd4d0f41"
      },
      "execution_count": 68,
      "outputs": [
        {
          "output_type": "display_data",
          "data": {
            "text/plain": [
              "<Figure size 1000x700 with 1 Axes>"
            ],
            "image/png": "[encoded data removed]"
          },
          "metadata": {}
        }
      ]
    },
    {
      "cell_type": "code",
      "source": [],
      "metadata": {
        "id": "tf2jLQtFT9OM"
      },
      "execution_count": null,
      "outputs": []
    }
  ]
}