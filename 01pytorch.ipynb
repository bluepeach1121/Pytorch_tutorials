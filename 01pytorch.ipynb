{
  "nbformat": 4,
  "nbformat_minor": 0,
  "metadata": {
    "colab": {
      "provenance": [],
      "gpuType": "T4",
      "authorship_tag": "ABX9TyPbS+SYQsDf0K5blBIU26XA",
      "include_colab_link": true
    },
    "kernelspec": {
      "name": "python3",
      "display_name": "Python 3"
    },
    "language_info": {
      "name": "python"
    },
    "accelerator": "GPU"
  },
  "cells": [
    {
      "cell_type": "markdown",
      "metadata": {
        "id": "view-in-github",
        "colab_type": "text"
      },
      "source": [
        "<a href=\"https://colab.research.google.com/github/bluepeach1121/Pytorch_tutorials/blob/main/01pytorch.ipynb\" target=\"_parent\"><img src=\"https://colab.research.google.com/assets/colab-badge.svg\" alt=\"Open In Colab\"/></a>"
      ]
    },
    {
      "cell_type": "code",
      "execution_count": 1,
      "metadata": {
        "colab": {
          "base_uri": "https://localhost:8080/"
        },
        "id": "VD7hCgAzBLw1",
        "outputId": "3a452078-0133-4c18-fedd-d479d9b4b4f0"
      },
      "outputs": [
        {
          "output_type": "execute_result",
          "data": {
            "text/plain": [
              "{1: 'data (prepare and load)',\n",
              " 2: 'build model',\n",
              " 3: 'fitting the model to the data',\n",
              " 4: 'making predictions and evaluating a model (inference)',\n",
              " 5: 'saving and loading a model',\n",
              " 6: 'putting it all together'}"
            ]
          },
          "metadata": {},
          "execution_count": 1
        }
      ],
      "source": [
        "what_were_covering = {1: 'data (prepare and load)',\n",
        "                      2: 'build model',\n",
        "                      3: 'fitting the model to the data',\n",
        "                      4: 'making predictions and evaluating a model (inference)',\n",
        "                      5: 'saving and loading a model',\n",
        "                      6: 'putting it all together'}\n",
        "what_were_covering"
      ]
    },
    {
      "cell_type": "code",
      "source": [
        "import torch\n",
        "from torch import nn #contains all of pythons building blocks for ML\n",
        "import matplotlib.pyplot as plt\n"
      ],
      "metadata": {
        "id": "d6aMijvXDBr3"
      },
      "execution_count": 2,
      "outputs": []
    },
    {
      "cell_type": "markdown",
      "source": [
        "1. convert data into numerical format\n",
        "2. build a model to learn pattern in numbers\n",
        "*lets create a model with linear regression*\n",
        "we'll use a linear regression formula to make a straight line with known parameters"
      ],
      "metadata": {
        "id": "LAER6MpeHdWW"
      }
    },
    {
      "cell_type": "code",
      "source": [
        "#create known parameters\n",
        "weight = 0.7\n",
        "bias = 0.3\n",
        "\n",
        "#create\n",
        "start = 0\n",
        "end = 1\n",
        "step = 0.02 #learning rate\n",
        "X = torch.arange(start, end, step).unsqueeze(dim=1)\n",
        "y = weight * X + bias\n",
        "\n",
        "X[:10], y[:10], len(X), len(y)"
      ],
      "metadata": {
        "colab": {
          "base_uri": "https://localhost:8080/"
        },
        "id": "yEnGWAlvILxo",
        "outputId": "6aec7ac6-6df0-4b43-96e4-a4d66ea1800a"
      },
      "execution_count": 3,
      "outputs": [
        {
          "output_type": "execute_result",
          "data": {
            "text/plain": [
              "(tensor([[0.0000],\n",
              "         [0.0200],\n",
              "         [0.0400],\n",
              "         [0.0600],\n",
              "         [0.0800],\n",
              "         [0.1000],\n",
              "         [0.1200],\n",
              "         [0.1400],\n",
              "         [0.1600],\n",
              "         [0.1800]]),\n",
              " tensor([[0.3000],\n",
              "         [0.3140],\n",
              "         [0.3280],\n",
              "         [0.3420],\n",
              "         [0.3560],\n",
              "         [0.3700],\n",
              "         [0.3840],\n",
              "         [0.3980],\n",
              "         [0.4120],\n",
              "         [0.4260]]),\n",
              " 50,\n",
              " 50)"
            ]
          },
          "metadata": {},
          "execution_count": 3
        }
      ]
    },
    {
      "cell_type": "markdown",
      "source": [
        "### splitting data into training and test sets (one of the most important concepts in ML/ data science)"
      ],
      "metadata": {
        "id": "GdaD4JfJOW9I"
      }
    },
    {
      "cell_type": "code",
      "source": [
        "#create a train/test split\n",
        "train_split = int(0.8 * len(X))\n",
        "X_train, y_train = X[:train_split], y[:train_split]\n",
        "X_test, y_test = X[train_split:], y[train_split:]\n",
        "\n",
        "len(X_train), len(y_train), len(X_test), len(y_test)"
      ],
      "metadata": {
        "colab": {
          "base_uri": "https://localhost:8080/"
        },
        "id": "MhmJjcH7hACw",
        "outputId": "672559d4-e313-4478-9d37-a6169a0f3436"
      },
      "execution_count": 4,
      "outputs": [
        {
          "output_type": "execute_result",
          "data": {
            "text/plain": [
              "(40, 40, 10, 10)"
            ]
          },
          "metadata": {},
          "execution_count": 4
        }
      ]
    },
    {
      "cell_type": "markdown",
      "source": [
        "how might we better visualize data."
      ],
      "metadata": {
        "id": "0tDVOO0wh9gu"
      }
    },
    {
      "cell_type": "code",
      "source": [
        "def plot_predictions(train_data = X_train,\n",
        "                     train_labels = y_train,\n",
        "                     test_data = X_test,\n",
        "                     test_labels = y_test,\n",
        "                     predictions = None):\n",
        "    \"\"\"\n",
        "    plots training data, test data nad compares predictions.\n",
        "    \"\"\"\n",
        "\n",
        "    plt.figure(figsize=(10, 7))\n",
        "\n",
        "    #plot training data in blue\n",
        "    plt.scatter(train_data, train_labels, c='b', s=4, label=\"training data\")\n",
        "\n",
        "    #plot test data in green\n",
        "    plt.scatter(test_data, test_labels, c='g', s=4, label='Testing data')\n",
        "\n",
        "    #are there predictions?\n",
        "    if predictions is not None:\n",
        "        #plot the predictions if they exist\n",
        "        plt.scatter(test_data, predictions, c='r', s=4, label='Predictions')\n",
        "\n",
        "    #show the legend\n",
        "    plt.legend(prop={'size': 14})\n",
        "\n"
      ],
      "metadata": {
        "id": "YDetAa4qigHI"
      },
      "execution_count": 5,
      "outputs": []
    },
    {
      "cell_type": "code",
      "source": [
        "plot_predictions();"
      ],
      "metadata": {
        "id": "_0ezcY_sphD7",
        "colab": {
          "base_uri": "https://localhost:8080/",
          "height": 599
        },
        "outputId": "2e79a06b-2226-47ba-b402-829488431960"
      },
      "execution_count": 6,
      "outputs": [
        {
          "output_type": "display_data",
          "data": {
            "text/plain": [
              "<Figure size 1000x700 with 1 Axes>"
            ],
            "image/png": "[encoded data removed]"
          },
          "metadata": {}
        }
      ]
    },
    {
      "cell_type": "markdown",
      "source": [
        "we are going to build a model to predict future values"
      ],
      "metadata": {
        "id": "JCziZtr2ugwe"
      }
    },
    {
      "cell_type": "markdown",
      "source": [
        "## 2. build model\n",
        "\n",
        "our first pytorch model\n",
        "\n",
        "what our model does:\n",
        "* start with random values (weight & bias)\n",
        "* look at training data and adjust the random values to better represent the ideal values used to create the data.\n",
        "\n",
        "How does it do so?\n",
        "through 2 main algorithms:\n",
        "1. gradient descent\n",
        "2. backpropagation\n",
        "\n",
        "**note:** `nn.Module` is a subclass. `forward(*input)` defines the computation performed at every cell. any subclass of `nn.module` needs to override `forward()`\n",
        "\n",
        "#pytorch model building essentials\n",
        "\n",
        "* torch.nn --> contains all of the building blocks for computational graphs\n",
        "* torch.nn.parameter - what parameters should our model try to learn, often a pytorch layer from torch.nn will set these for us.\n",
        "* torch.nn.Module -- the base class for all neural network modules, if you subclass it, you should override forward()\n",
        "* torch.optim -- this is where the optimizers in pytorch are, they help with gradient descent.\n",
        "* def forward() --> all nn.module subclasses require you to overwrite forward(), this method defines what happens in the forward computation"
      ],
      "metadata": {
        "id": "4qvEMvDRuqI0"
      }
    },
    {
      "cell_type": "markdown",
      "source": [
        "### checking the contents of our pytorch model\n",
        " * we can our model parameters or whats inside our model using `nn.parameter()`.\n"
      ],
      "metadata": {
        "id": "EvrLRWZVXgGO"
      }
    },
    {
      "cell_type": "code",
      "source": [
        "import torch\n",
        "from torch import nn\n",
        "\n",
        "# Define the model\n",
        "class LinearRegressionModel(nn.Module):\n",
        "    def __init__(self):\n",
        "        super().__init__()\n",
        "        self.weights = nn.Parameter(torch.randn(1, # start with a random weight and try to ad\n",
        "                                                requires_grad=True,\n",
        "                                                dtype=torch.float))\n",
        "\n",
        "        self.bias = nn.Parameter(torch.randn(1,\n",
        "                                             requires_grad=True,\n",
        "                                             dtype=torch.float))\n",
        "\n",
        "    #forward method to define the computation in the model\n",
        "    def forward(self, x: torch.Tensor) -> torch.Tensor:\n",
        "        return self.weights * x + self.bias\n",
        "\n",
        "# Set the random seed\n",
        "torch.manual_seed(42)\n",
        "\n",
        "# Instantiate the model\n",
        "model_0 = LinearRegressionModel()\n",
        "\n",
        "# Print the parameters\n",
        "list(model_0.parameters())\n"
      ],
      "metadata": {
        "colab": {
          "base_uri": "https://localhost:8080/"
        },
        "id": "8cQlY16EGRu8",
        "outputId": "07011cd2-15f0-45a8-d5f4-b159e183c79c"
      },
      "execution_count": 7,
      "outputs": [
        {
          "output_type": "execute_result",
          "data": {
            "text/plain": [
              "[Parameter containing:\n",
              " tensor([0.3367], requires_grad=True),\n",
              " Parameter containing:\n",
              " tensor([0.1288], requires_grad=True)]"
            ]
          },
          "metadata": {},
          "execution_count": 7
        }
      ]
    },
    {
      "cell_type": "code",
      "source": [
        "# list named parameters\n",
        "model_0.state_dict()"
      ],
      "metadata": {
        "colab": {
          "base_uri": "https://localhost:8080/"
        },
        "id": "3veiY7EE7cJe",
        "outputId": "852adef5-34f5-40be-bd31-07f56ff9106f"
      },
      "execution_count": 8,
      "outputs": [
        {
          "output_type": "execute_result",
          "data": {
            "text/plain": [
              "OrderedDict([('weights', tensor([0.3367])), ('bias', tensor([0.1288]))])"
            ]
          },
          "metadata": {},
          "execution_count": 8
        }
      ]
    },
    {
      "cell_type": "markdown",
      "source": [
        "# making prediction using `torch.inference_mode()`\n",
        "to check our model's predictive power, lets see how well it predicts `y_test` based on `X_test`\n",
        "\n",
        "when we pass data through our model, its going to run it through the `forward()` method"
      ],
      "metadata": {
        "id": "IyyLmT2c-Xss"
      }
    },
    {
      "cell_type": "code",
      "source": [
        "print(f\"{X_test} {y_test}\")"
      ],
      "metadata": {
        "colab": {
          "base_uri": "https://localhost:8080/"
        },
        "id": "h9bUz4xUR5MC",
        "outputId": "6f3f59c2-6bb5-4756-e9e6-eea3d11de7cf"
      },
      "execution_count": 9,
      "outputs": [
        {
          "output_type": "stream",
          "name": "stdout",
          "text": [
            "tensor([[0.8000],\n",
            "        [0.8200],\n",
            "        [0.8400],\n",
            "        [0.8600],\n",
            "        [0.8800],\n",
            "        [0.9000],\n",
            "        [0.9200],\n",
            "        [0.9400],\n",
            "        [0.9600],\n",
            "        [0.9800]]) tensor([[0.8600],\n",
            "        [0.8740],\n",
            "        [0.8880],\n",
            "        [0.9020],\n",
            "        [0.9160],\n",
            "        [0.9300],\n",
            "        [0.9440],\n",
            "        [0.9580],\n",
            "        [0.9720],\n",
            "        [0.9860]])\n"
          ]
        }
      ]
    },
    {
      "cell_type": "code",
      "source": [
        "#make predictions with model\n",
        "with torch.inference_mode():\n",
        "    y_preds = model_0(X_test) #takes in X_test as inputs and returns y_test\n",
        "\n",
        "y_preds"
      ],
      "metadata": {
        "colab": {
          "base_uri": "https://localhost:8080/"
        },
        "id": "BzQZZf79Rhy6",
        "outputId": "ff3b1a8f-7b48-471a-e4cb-420a111d1651"
      },
      "execution_count": 10,
      "outputs": [
        {
          "output_type": "execute_result",
          "data": {
            "text/plain": [
              "tensor([[0.3982],\n",
              "        [0.4049],\n",
              "        [0.4116],\n",
              "        [0.4184],\n",
              "        [0.4251],\n",
              "        [0.4318],\n",
              "        [0.4386],\n",
              "        [0.4453],\n",
              "        [0.4520],\n",
              "        [0.4588]])"
            ]
          },
          "metadata": {},
          "execution_count": 10
        }
      ]
    },
    {
      "cell_type": "code",
      "source": [
        "y_test"
      ],
      "metadata": {
        "colab": {
          "base_uri": "https://localhost:8080/"
        },
        "id": "M4dsLjiqSZ_D",
        "outputId": "9ff421ce-7bee-4bfc-ba27-f16f1be010ad"
      },
      "execution_count": 11,
      "outputs": [
        {
          "output_type": "execute_result",
          "data": {
            "text/plain": [
              "tensor([[0.8600],\n",
              "        [0.8740],\n",
              "        [0.8880],\n",
              "        [0.9020],\n",
              "        [0.9160],\n",
              "        [0.9300],\n",
              "        [0.9440],\n",
              "        [0.9580],\n",
              "        [0.9720],\n",
              "        [0.9860]])"
            ]
          },
          "metadata": {},
          "execution_count": 11
        }
      ]
    },
    {
      "cell_type": "code",
      "source": [
        "plot_predictions(predictions= y_preds)"
      ],
      "metadata": {
        "colab": {
          "base_uri": "https://localhost:8080/",
          "height": 599
        },
        "id": "fkar6LtQTlls",
        "outputId": "db731b73-fd8f-4753-de61-3613e586beba"
      },
      "execution_count": 12,
      "outputs": [
        {
          "output_type": "display_data",
          "data": {
            "text/plain": [
              "<Figure size 1000x700 with 1 Axes>"
            ],
            "image/png": "[encoded data removed]"
          },
          "metadata": {}
        }
      ]
    },
    {
      "cell_type": "markdown",
      "source": [
        "## Train model\n",
        "\n",
        "the whole idea of training a model is to move from some **unknown** parameters (values) to a more accurate prediction. an ideal model model would move from random values to the perfect parameters.\n",
        "\n",
        "## loss fucntion\n",
        "one way to measure how poor or how wrong our model is, is to use a loss function. loss functions may be also called cost functions or criterion in differen areas.\n",
        "\n",
        "##optimizer\n",
        "takes into account the loss of a model and adjusts the model's paramters (i.e weights and biases) to improve the loss function.\n",
        "\n",
        "* inside the optimizer you'll often have to set 2 parameters:\n",
        "    * `params` - the model parameters you'd like to optimize, e.g `params=model_0.parameters()`\n",
        "    * `lr` (learning rate) - the learning rate is a hyperparameter that defines how big/small the optimizer changes the parameters with each step.\n",
        "\n",
        "\n",
        "*for pytorch, we need*\n",
        "* A training loop\n",
        "* A testing loop\n",
        "\n"
      ],
      "metadata": {
        "id": "tf2jLQtFT9OM"
      }
    },
    {
      "cell_type": "code",
      "source": [
        "list(model_0.parameters())"
      ],
      "metadata": {
        "colab": {
          "base_uri": "https://localhost:8080/"
        },
        "id": "B4IAqSl0d6OZ",
        "outputId": "16268ec8-ecda-4538-b121-0e05487593a0"
      },
      "execution_count": 13,
      "outputs": [
        {
          "output_type": "execute_result",
          "data": {
            "text/plain": [
              "[Parameter containing:\n",
              " tensor([0.3367], requires_grad=True),\n",
              " Parameter containing:\n",
              " tensor([0.1288], requires_grad=True)]"
            ]
          },
          "metadata": {},
          "execution_count": 13
        }
      ]
    },
    {
      "cell_type": "code",
      "source": [
        "model_0.state_dict()"
      ],
      "metadata": {
        "colab": {
          "base_uri": "https://localhost:8080/"
        },
        "id": "msHQUFxZd93f",
        "outputId": "48e55982-824b-498a-c014-044e37dc058e"
      },
      "execution_count": 14,
      "outputs": [
        {
          "output_type": "execute_result",
          "data": {
            "text/plain": [
              "OrderedDict([('weights', tensor([0.3367])), ('bias', tensor([0.1288]))])"
            ]
          },
          "metadata": {},
          "execution_count": 14
        }
      ]
    },
    {
      "cell_type": "code",
      "source": [
        "#setup a loss funtion\n",
        "loss_fn = nn.L1Loss()\n",
        "\n",
        "\n",
        "#setup and optimizer\n",
        "optimizer = torch.optim.SGD(model_0.parameters(),\n",
        "                            lr = 0.01) #learning rate is one of the most important hyperparameter you can set\n"
      ],
      "metadata": {
        "id": "1DWMGT67eDoE"
      },
      "execution_count": 15,
      "outputs": []
    },
    {
      "cell_type": "markdown",
      "source": [
        "### building a training loop and a testing loop in Pytorch\n",
        "\n",
        "1. Loop through the data\n",
        "2. Forward pass --> this nvolves data moving through our model's `forward()` function --> also called forward propagation\n",
        "2. Calculate the loss (compare forward pass predictions to ground truth labels)\n",
        "3. optimizer zero grad\n",
        "4. Loss backwards -->move backwards through the network to calculate the gradients of the loss and provide the feedback to the model using mathematical methods. **BACKPROPAGATION**\n",
        "5. optimizer step"
      ],
      "metadata": {
        "id": "2sYtUTq-s9tK"
      }
    },
    {
      "cell_type": "code",
      "source": [
        "list(model_0.parameters())"
      ],
      "metadata": {
        "id": "PV04CFcl7QLh",
        "colab": {
          "base_uri": "https://localhost:8080/"
        },
        "outputId": "ce3a4b2d-7467-469c-b422-d3222232c805"
      },
      "execution_count": 16,
      "outputs": [
        {
          "output_type": "execute_result",
          "data": {
            "text/plain": [
              "[Parameter containing:\n",
              " tensor([0.3367], requires_grad=True),\n",
              " Parameter containing:\n",
              " tensor([0.1288], requires_grad=True)]"
            ]
          },
          "metadata": {},
          "execution_count": 16
        }
      ]
    },
    {
      "cell_type": "code",
      "source": [
        "X_test, y_test"
      ],
      "metadata": {
        "colab": {
          "base_uri": "https://localhost:8080/"
        },
        "id": "OTcwo2pQ9MSK",
        "outputId": "e4842413-a55b-452e-9c2a-4782850b5186"
      },
      "execution_count": 17,
      "outputs": [
        {
          "output_type": "execute_result",
          "data": {
            "text/plain": [
              "(tensor([[0.8000],\n",
              "         [0.8200],\n",
              "         [0.8400],\n",
              "         [0.8600],\n",
              "         [0.8800],\n",
              "         [0.9000],\n",
              "         [0.9200],\n",
              "         [0.9400],\n",
              "         [0.9600],\n",
              "         [0.9800]]),\n",
              " tensor([[0.8600],\n",
              "         [0.8740],\n",
              "         [0.8880],\n",
              "         [0.9020],\n",
              "         [0.9160],\n",
              "         [0.9300],\n",
              "         [0.9440],\n",
              "         [0.9580],\n",
              "         [0.9720],\n",
              "         [0.9860]]))"
            ]
          },
          "metadata": {},
          "execution_count": 17
        }
      ]
    },
    {
      "cell_type": "code",
      "source": [
        "torch.manual_seed(42)\n",
        "\n",
        "# an epoch is one loop through the data... ( this is a hyperparameter bcuz we set it ourselves)\n",
        "epochs = 200\n",
        "\n",
        "epoch_count = []\n",
        "loss_values = []\n",
        "test_loss_values = []\n",
        "\n",
        "### training\n",
        "#0 Loop through the data\n",
        "for epoch in range(epochs):\n",
        "    #set the model to training mode\n",
        "    model_0.train() # train mode in Pytorch sets all parameters that require gradients to require gradients\n",
        "\n",
        "    #1. forward pass\n",
        "    y_pred = model_0(X_train)\n",
        "\n",
        "    #2. Calculate the loss\n",
        "    loss = loss_fn(y_pred, y_train)\n",
        "\n",
        "\n",
        "    #3. Optimizer zero grad\n",
        "    optimizer.zero_grad()\n",
        "\n",
        "    #4. perform backpropagation on the loss with respect to the parameters of the model\n",
        "    loss.backward()\n",
        "\n",
        "    #5. step the optimizer (perform gradient descent)\n",
        "    optimizer.step() # by default how the optimizer changes will accumulate through the loop... so\n",
        "\n",
        "    ### testing\n",
        "    model_0.eval() # turns off different settings in the model not needed for evaluation/testing\n",
        "    with torch.inference_mode(): # turns off gradient tracking\n",
        "    #with torch.no_grad(): # you may see torch.no_grad() in older pytorch code\n",
        "        #1. do the forward pass\n",
        "        test_pred = model_0(X_test)\n",
        "\n",
        "        #2. Calculate the loss\n",
        "        test_loss = loss_fn(test_pred, y_test)\n",
        "\n",
        "    #print out whats happening\n",
        "    if epoch % 10 == 0:\n",
        "        epoch_count.append(epoch)\n",
        "        loss_values.append(loss)\n",
        "        test_loss_values.append(test_loss)\n",
        "        print(f'epoch: {epoch} <--> loss: {loss} <--> test loss: {test_loss} ')\n",
        "\n",
        "print(model_0.state_dict()) # turns off gradient tracking"
      ],
      "metadata": {
        "colab": {
          "base_uri": "https://localhost:8080/"
        },
        "id": "yjPuTk-05Fb4",
        "outputId": "4bfc04d5-b946-41a1-95d1-84067b1e8a5e"
      },
      "execution_count": 18,
      "outputs": [
        {
          "output_type": "stream",
          "name": "stdout",
          "text": [
            "epoch: 0 <--> loss: 0.31288138031959534 <--> test loss: 0.48106518387794495 \n",
            "epoch: 10 <--> loss: 0.1976713240146637 <--> test loss: 0.3463551998138428 \n",
            "epoch: 20 <--> loss: 0.08908725529909134 <--> test loss: 0.21729660034179688 \n",
            "epoch: 30 <--> loss: 0.053148526698350906 <--> test loss: 0.14464017748832703 \n",
            "epoch: 40 <--> loss: 0.04543796554207802 <--> test loss: 0.11360953003168106 \n",
            "epoch: 50 <--> loss: 0.04167863354086876 <--> test loss: 0.09919948130846024 \n",
            "epoch: 60 <--> loss: 0.03818932920694351 <--> test loss: 0.08886633068323135 \n",
            "epoch: 70 <--> loss: 0.03476089984178543 <--> test loss: 0.0805937647819519 \n",
            "epoch: 80 <--> loss: 0.03132382780313492 <--> test loss: 0.07232122868299484 \n",
            "epoch: 90 <--> loss: 0.02788739837706089 <--> test loss: 0.06473556160926819 \n",
            "epoch: 100 <--> loss: 0.024458957836031914 <--> test loss: 0.05646304413676262 \n",
            "epoch: 110 <--> loss: 0.021020207554101944 <--> test loss: 0.04819049686193466 \n",
            "epoch: 120 <--> loss: 0.01758546568453312 <--> test loss: 0.04060482233762741 \n",
            "epoch: 130 <--> loss: 0.014155393466353416 <--> test loss: 0.03233227878808975 \n",
            "epoch: 140 <--> loss: 0.010716589167714119 <--> test loss: 0.024059748277068138 \n",
            "epoch: 150 <--> loss: 0.0072835334576666355 <--> test loss: 0.016474086791276932 \n",
            "epoch: 160 <--> loss: 0.0038517764769494534 <--> test loss: 0.008201557211577892 \n",
            "epoch: 170 <--> loss: 0.008932482451200485 <--> test loss: 0.005023092031478882 \n",
            "epoch: 180 <--> loss: 0.008932482451200485 <--> test loss: 0.005023092031478882 \n",
            "epoch: 190 <--> loss: 0.008932482451200485 <--> test loss: 0.005023092031478882 \n",
            "OrderedDict([('weights', tensor([0.6990])), ('bias', tensor([0.3093]))])\n"
          ]
        }
      ]
    },
    {
      "cell_type": "code",
      "source": [
        "test_loss_values"
      ],
      "metadata": {
        "colab": {
          "base_uri": "https://localhost:8080/"
        },
        "id": "yu_9dAK2B2g2",
        "outputId": "c9cfaa8e-5471-43cf-dfb2-e2ca66d10921"
      },
      "execution_count": 19,
      "outputs": [
        {
          "output_type": "execute_result",
          "data": {
            "text/plain": [
              "[tensor(0.4811),\n",
              " tensor(0.3464),\n",
              " tensor(0.2173),\n",
              " tensor(0.1446),\n",
              " tensor(0.1136),\n",
              " tensor(0.0992),\n",
              " tensor(0.0889),\n",
              " tensor(0.0806),\n",
              " tensor(0.0723),\n",
              " tensor(0.0647),\n",
              " tensor(0.0565),\n",
              " tensor(0.0482),\n",
              " tensor(0.0406),\n",
              " tensor(0.0323),\n",
              " tensor(0.0241),\n",
              " tensor(0.0165),\n",
              " tensor(0.0082),\n",
              " tensor(0.0050),\n",
              " tensor(0.0050),\n",
              " tensor(0.0050)]"
            ]
          },
          "metadata": {},
          "execution_count": 19
        }
      ]
    },
    {
      "cell_type": "code",
      "source": [
        "import numpy as np\n",
        "#plt the loss curves\n",
        "plt.plot(epoch_count, np.array(torch.tensor(loss_values).numpy()), label = 'train loss')\n",
        "plt.plot(epoch_count, test_loss_values, label='test loss')\n",
        "plt.title('training and test loss curves')\n",
        "plt.ylabel('loss')\n",
        "plt.ylim(0, 0.2)\n",
        "plt.xlabel('epochs')\n",
        "plt.legend();"
      ],
      "metadata": {
        "id": "Ry2vjN8NAh40",
        "colab": {
          "base_uri": "https://localhost:8080/",
          "height": 472
        },
        "outputId": "628adc5a-84f5-47db-f681-0e8155668921"
      },
      "execution_count": 20,
      "outputs": [
        {
          "output_type": "display_data",
          "data": {
            "text/plain": [
              "<Figure size 640x480 with 1 Axes>"
            ],
            "image/png": "[encoded data removed]"
          },
          "metadata": {}
        }
      ]
    },
    {
      "cell_type": "code",
      "source": [
        "with torch.inference_mode():\n",
        "    y_pred_new = model_0(X_test)"
      ],
      "metadata": {
        "id": "davk5T9Eg40c"
      },
      "execution_count": 21,
      "outputs": []
    },
    {
      "cell_type": "code",
      "source": [
        "plot_predictions(predictions=y_preds);"
      ],
      "metadata": {
        "id": "4LP5guirjcUU",
        "colab": {
          "base_uri": "https://localhost:8080/",
          "height": 599
        },
        "outputId": "7a2055bd-3911-4429-ae6f-e0f4bb2560a5"
      },
      "execution_count": 22,
      "outputs": [
        {
          "output_type": "display_data",
          "data": {
            "text/plain": [
              "<Figure size 1000x700 with 1 Axes>"
            ],
            "image/png": "[encoded data removed]"
          },
          "metadata": {}
        }
      ]
    },
    {
      "cell_type": "code",
      "source": [
        "plot_predictions(predictions= y_pred_new);"
      ],
      "metadata": {
        "id": "s7azouXXjqxE",
        "colab": {
          "base_uri": "https://localhost:8080/",
          "height": 599
        },
        "outputId": "fa0078cc-16b6-4a97-af7a-ddeb308ac200"
      },
      "execution_count": 23,
      "outputs": [
        {
          "output_type": "display_data",
          "data": {
            "text/plain": [
              "<Figure size 1000x700 with 1 Axes>"
            ],
            "image/png": "[encoded data removed]"
          },
          "metadata": {}
        }
      ]
    },
    {
      "cell_type": "markdown",
      "source": [
        "# saving a model in Pytorch\n",
        "\n",
        "there are 3 main methods for saving and loading models in pytorch.\n",
        "\n",
        "1. `torch.save` - allows you save a pytorch object in python's pickle format\n",
        "2. `torch.load` - allows you load a saved Pytorch object\n",
        "3. `torch.nn.Module.load_state_dict()` - this allows to load a model's saved state dictionary"
      ],
      "metadata": {
        "id": "cpqron6Nk88r"
      }
    },
    {
      "cell_type": "code",
      "source": [
        "#saving our pytorch model\n",
        "from pathlib import Path as path\n",
        "\n",
        "# 1. create models directory\n",
        "MODEL_PATH = path('models')\n",
        "MODEL_PATH.mkdir(parents=True, exist_ok=True) #mkdir --> make directory\n",
        "\n",
        "#2. create model save path\n",
        "MODEL_NAME ='01_pytorch_model_0.pth'\n",
        "MODEL_SAVE_PATH = MODEL_PATH / MODEL_NAME\n",
        "\n",
        "MODEL_SAVE_PATH\n",
        "\n",
        "#save the model state dict\n",
        "print(f\"saving model to: {MODEL_SAVE_PATH}\")\n",
        "torch.save(obj= model_0.state_dict(),\n",
        "           f = MODEL_SAVE_PATH)\n"
      ],
      "metadata": {
        "colab": {
          "base_uri": "https://localhost:8080/"
        },
        "id": "ojW-ADAxvsvu",
        "outputId": "9d213d00-0056-46a4-b3b8-11af0edba406"
      },
      "execution_count": 24,
      "outputs": [
        {
          "output_type": "stream",
          "name": "stdout",
          "text": [
            "saving model to: models/01_pytorch_model_0.pth\n"
          ]
        }
      ]
    },
    {
      "cell_type": "code",
      "source": [
        "!ls -l models"
      ],
      "metadata": {
        "colab": {
          "base_uri": "https://localhost:8080/"
        },
        "id": "gLO88n_dzWYk",
        "outputId": "2f1e5c51-4c80-4fa3-a5fe-8921c2f65d95"
      },
      "execution_count": 25,
      "outputs": [
        {
          "output_type": "stream",
          "name": "stdout",
          "text": [
            "total 4\n",
            "-rw-r--r-- 1 root root 1562 Jun  1 22:42 01_pytorch_model_0.pth\n"
          ]
        }
      ]
    },
    {
      "cell_type": "markdown",
      "source": [
        "## loading a pytorch model\n",
        "since we saved our model's `state_dict()` rather than the entire model, we'll create a new instance of our model class and load the saved `state_dict()` into that."
      ],
      "metadata": {
        "id": "ncvoVAdy0nqL"
      }
    },
    {
      "cell_type": "code",
      "source": [
        "model_0.state_dict()"
      ],
      "metadata": {
        "colab": {
          "base_uri": "https://localhost:8080/"
        },
        "id": "YMnWAZ1D1hcY",
        "outputId": "6a000185-1291-4bdc-cca4-90820d73ea91"
      },
      "execution_count": 26,
      "outputs": [
        {
          "output_type": "execute_result",
          "data": {
            "text/plain": [
              "OrderedDict([('weights', tensor([0.6990])), ('bias', tensor([0.3093]))])"
            ]
          },
          "metadata": {},
          "execution_count": 26
        }
      ]
    },
    {
      "cell_type": "code",
      "source": [
        "#to load in a saved state_dict we have to instantiate a new instance of out model class\n",
        "loaded_model_0 = LinearRegressionModel()\n",
        "\n",
        "#load the saved state_dict of model_0 (this will update the new instances with updated parameters)\n",
        "loaded_model_0.load_state_dict(torch.load(f= MODEL_SAVE_PATH))"
      ],
      "metadata": {
        "colab": {
          "base_uri": "https://localhost:8080/"
        },
        "id": "kYO0C6vO1kjI",
        "outputId": "504b1720-035a-4fe3-90c2-dfe27ab741fb"
      },
      "execution_count": 27,
      "outputs": [
        {
          "output_type": "execute_result",
          "data": {
            "text/plain": [
              "<All keys matched successfully>"
            ]
          },
          "metadata": {},
          "execution_count": 27
        }
      ]
    },
    {
      "cell_type": "code",
      "source": [
        "loaded_model_0.state_dict()"
      ],
      "metadata": {
        "colab": {
          "base_uri": "https://localhost:8080/"
        },
        "id": "qvtbw8t22DGu",
        "outputId": "847e5247-8a4e-42b3-e8de-b0e9d8866d90"
      },
      "execution_count": 28,
      "outputs": [
        {
          "output_type": "execute_result",
          "data": {
            "text/plain": [
              "OrderedDict([('weights', tensor([0.6990])), ('bias', tensor([0.3093]))])"
            ]
          },
          "metadata": {},
          "execution_count": 28
        }
      ]
    },
    {
      "cell_type": "code",
      "source": [
        "#make some predictions with out loaded model\n",
        "\n",
        "loaded_model_0.eval()\n",
        "with torch.inference_mode():\n",
        "    loaded_model_preds = loaded_model_0(X_test)\n",
        "\n",
        "loaded_model_preds"
      ],
      "metadata": {
        "colab": {
          "base_uri": "https://localhost:8080/"
        },
        "id": "VSAJuhNZ2Hvr",
        "outputId": "c81b38df-6352-44aa-f7cb-746e1ecef64d"
      },
      "execution_count": 29,
      "outputs": [
        {
          "output_type": "execute_result",
          "data": {
            "text/plain": [
              "tensor([[0.8685],\n",
              "        [0.8825],\n",
              "        [0.8965],\n",
              "        [0.9105],\n",
              "        [0.9245],\n",
              "        [0.9384],\n",
              "        [0.9524],\n",
              "        [0.9664],\n",
              "        [0.9804],\n",
              "        [0.9944]])"
            ]
          },
          "metadata": {},
          "execution_count": 29
        }
      ]
    },
    {
      "cell_type": "code",
      "source": [
        "#make some models preds\n",
        "model_0.eval()\n",
        "with torch.inference_mode():\n",
        "    y_preds == model_0(X_test)\n",
        "\n",
        "y_preds"
      ],
      "metadata": {
        "colab": {
          "base_uri": "https://localhost:8080/"
        },
        "id": "qen1pVQs58Po",
        "outputId": "4e02b589-1ed8-43b1-f2e0-4b3cd2e262ad"
      },
      "execution_count": 30,
      "outputs": [
        {
          "output_type": "execute_result",
          "data": {
            "text/plain": [
              "tensor([[0.3982],\n",
              "        [0.4049],\n",
              "        [0.4116],\n",
              "        [0.4184],\n",
              "        [0.4251],\n",
              "        [0.4318],\n",
              "        [0.4386],\n",
              "        [0.4453],\n",
              "        [0.4520],\n",
              "        [0.4588]])"
            ]
          },
          "metadata": {},
          "execution_count": 30
        }
      ]
    },
    {
      "cell_type": "code",
      "source": [
        "#compares loaded model preds with original model preds\n",
        "y_preds == loaded_model_preds"
      ],
      "metadata": {
        "colab": {
          "base_uri": "https://localhost:8080/"
        },
        "id": "nuB1BvoK4-KB",
        "outputId": "a24d081c-8dcb-4eb9-f0a7-15f03405b2f0"
      },
      "execution_count": 31,
      "outputs": [
        {
          "output_type": "execute_result",
          "data": {
            "text/plain": [
              "tensor([[False],\n",
              "        [False],\n",
              "        [False],\n",
              "        [False],\n",
              "        [False],\n",
              "        [False],\n",
              "        [False],\n",
              "        [False],\n",
              "        [False],\n",
              "        [False]])"
            ]
          },
          "metadata": {},
          "execution_count": 31
        }
      ]
    },
    {
      "cell_type": "markdown",
      "source": [
        "## 6. puttin it all together\n",
        "\n",
        "lets go back through all the steps and see it all in one place"
      ],
      "metadata": {
        "id": "8RZYg_Dv7FLH"
      }
    },
    {
      "cell_type": "code",
      "source": [
        "# import necessary libraries\n",
        "import torch\n",
        "from torch import nn\n",
        "import matplotlib.pyplot as plt\n"
      ],
      "metadata": {
        "id": "0umjL4mh8abp"
      },
      "execution_count": 32,
      "outputs": []
    },
    {
      "cell_type": "markdown",
      "source": [
        "create device-agnostic code.\n",
        "this means if we've got access to a GPU, our code will use it"
      ],
      "metadata": {
        "id": "Xk4Xz6QY8_eX"
      }
    },
    {
      "cell_type": "code",
      "source": [
        "#setup device agnostic code\n",
        "device = 'cuda' if torch.cuda.is_available() else 'cpu'\n",
        "print(f'we are operating on--> {device}')"
      ],
      "metadata": {
        "colab": {
          "base_uri": "https://localhost:8080/"
        },
        "id": "eDXPgCDE9P3v",
        "outputId": "6a30197f-97ad-48cf-c551-e628e707101d"
      },
      "execution_count": 35,
      "outputs": [
        {
          "output_type": "stream",
          "name": "stdout",
          "text": [
            "we are operating on--> cuda\n"
          ]
        }
      ]
    },
    {
      "cell_type": "code",
      "source": [
        "!nvidia-smi"
      ],
      "metadata": {
        "colab": {
          "base_uri": "https://localhost:8080/"
        },
        "id": "HA-uziKH9dcr",
        "outputId": "09019cbb-2da7-420b-c440-aaab563a6539"
      },
      "execution_count": 36,
      "outputs": [
        {
          "output_type": "stream",
          "name": "stdout",
          "text": [
            "Sat Jun  1 22:43:27 2024       \n",
            "+---------------------------------------------------------------------------------------+\n",
            "| NVIDIA-SMI 535.104.05             Driver Version: 535.104.05   CUDA Version: 12.2     |\n",
            "|-----------------------------------------+----------------------+----------------------+\n",
            "| GPU  Name                 Persistence-M | Bus-Id        Disp.A | Volatile Uncorr. ECC |\n",
            "| Fan  Temp   Perf          Pwr:Usage/Cap |         Memory-Usage | GPU-Util  Compute M. |\n",
            "|                                         |                      |               MIG M. |\n",
            "|=========================================+======================+======================|\n",
            "|   0  Tesla T4                       Off | 00000000:00:04.0 Off |                    0 |\n",
            "| N/A   38C    P8              10W /  70W |      3MiB / 15360MiB |      0%      Default |\n",
            "|                                         |                      |                  N/A |\n",
            "+-----------------------------------------+----------------------+----------------------+\n",
            "                                                                                         \n",
            "+---------------------------------------------------------------------------------------+\n",
            "| Processes:                                                                            |\n",
            "|  GPU   GI   CI        PID   Type   Process name                            GPU Memory |\n",
            "|        ID   ID                                                             Usage      |\n",
            "|=======================================================================================|\n",
            "|  No running processes found                                                           |\n",
            "+---------------------------------------------------------------------------------------+\n"
          ]
        }
      ]
    },
    {
      "cell_type": "markdown",
      "source": [
        "###data creation"
      ],
      "metadata": {
        "id": "-PVITML1-N0b"
      }
    },
    {
      "cell_type": "code",
      "source": [
        "#create some data using the regression formula of y = weight * X + bias\n",
        "weight = 0.8\n",
        "bias = 0.2\n",
        "\n",
        "#create range value\n",
        "start = 0\n",
        "end = 1\n",
        "step = 0.02\n",
        " #create X and y (feature and labels)\n",
        "X = torch.arange(start, end, step).unsqueeze(dim=1)\n",
        "y = weight * X + bias\n",
        "\n",
        "X[:10], y[:10]\n"
      ],
      "metadata": {
        "colab": {
          "base_uri": "https://localhost:8080/"
        },
        "id": "tBx_IP_C-b8_",
        "outputId": "3cbfba84-0b18-4d9e-b669-1b3a3f40ee76"
      },
      "execution_count": 94,
      "outputs": [
        {
          "output_type": "execute_result",
          "data": {
            "text/plain": [
              "(tensor([[0.0000],\n",
              "         [0.0200],\n",
              "         [0.0400],\n",
              "         [0.0600],\n",
              "         [0.0800],\n",
              "         [0.1000],\n",
              "         [0.1200],\n",
              "         [0.1400],\n",
              "         [0.1600],\n",
              "         [0.1800]]),\n",
              " tensor([[0.2000],\n",
              "         [0.2160],\n",
              "         [0.2320],\n",
              "         [0.2480],\n",
              "         [0.2640],\n",
              "         [0.2800],\n",
              "         [0.2960],\n",
              "         [0.3120],\n",
              "         [0.3280],\n",
              "         [0.3440]]))"
            ]
          },
          "metadata": {},
          "execution_count": 94
        }
      ]
    },
    {
      "cell_type": "code",
      "source": [
        "#split data\n",
        "train_split = int(0.8 * len(X))\n",
        "X_train, y_train = X[:train_split], y[:train_split]\n",
        "X_test, y_test = X[train_split:], y[train_split:]\n",
        "len(X_train), len(y_train), len(X_test), len(y_test)"
      ],
      "metadata": {
        "colab": {
          "base_uri": "https://localhost:8080/"
        },
        "id": "uCibfpxk_Nus",
        "outputId": "08d47d1a-9f59-4f01-9419-5d821c5c0346"
      },
      "execution_count": 95,
      "outputs": [
        {
          "output_type": "execute_result",
          "data": {
            "text/plain": [
              "(40, 40, 10, 10)"
            ]
          },
          "metadata": {},
          "execution_count": 95
        }
      ]
    },
    {
      "cell_type": "code",
      "source": [
        "#plot the data\n",
        "plot_predictions()"
      ],
      "metadata": {
        "colab": {
          "base_uri": "https://localhost:8080/",
          "height": 599
        },
        "id": "4zcOALH9AHb5",
        "outputId": "0468b949-3122-4b44-db4c-e570f8704a2b"
      },
      "execution_count": 96,
      "outputs": [
        {
          "output_type": "display_data",
          "data": {
            "text/plain": [
              "<Figure size 1000x700 with 1 Axes>"
            ],
            "image/png": "[encoded data removed]"
          },
          "metadata": {}
        }
      ]
    },
    {
      "cell_type": "markdown",
      "source": [
        "##6.2 building a pytorch linear model\n"
      ],
      "metadata": {
        "id": "Qf25NPCFAWT5"
      }
    },
    {
      "cell_type": "code",
      "source": [
        "#creat a linear model by subclassing nn.Module\n",
        "class LinearRegressionModelV2(nn.Module):\n",
        "    def __init__(self):\n",
        "        super().__init__()\n",
        "        # use nn.linear() for creating the model paramters\n",
        "        self.linear_layer = nn.Linear(in_features=1,\n",
        "                                      out_features=1)\n",
        "\n",
        "    def forward(self, x: torch.Tensor) -> torch.Tensor:\n",
        "        return self.linear_layer(x)\n",
        "\n",
        "#set the manual seed\n",
        "torch.manual_seed(42)\n",
        "model_1 = LinearRegressionModelV2()\n",
        "model_1, model_1.state_dict()"
      ],
      "metadata": {
        "colab": {
          "base_uri": "https://localhost:8080/"
        },
        "id": "OIoZT2YxAv1I",
        "outputId": "afc1abbf-557f-4587-e6bf-8b183567c776"
      },
      "execution_count": 97,
      "outputs": [
        {
          "output_type": "execute_result",
          "data": {
            "text/plain": [
              "(LinearRegressionModelV2(\n",
              "   (linear_layer): Linear(in_features=1, out_features=1, bias=True)\n",
              " ),\n",
              " OrderedDict([('linear_layer.weight', tensor([[0.7645]])),\n",
              "              ('linear_layer.bias', tensor([0.8300]))]))"
            ]
          },
          "metadata": {},
          "execution_count": 97
        }
      ]
    },
    {
      "cell_type": "code",
      "source": [
        "#check the model current device\n",
        "next(model_1.parameters()).device"
      ],
      "metadata": {
        "colab": {
          "base_uri": "https://localhost:8080/"
        },
        "id": "tyKcwp9FELjT",
        "outputId": "1056a8b9-d4a4-4362-f3e1-b1b4c74a1e82"
      },
      "execution_count": 98,
      "outputs": [
        {
          "output_type": "execute_result",
          "data": {
            "text/plain": [
              "device(type='cpu')"
            ]
          },
          "metadata": {},
          "execution_count": 98
        }
      ]
    },
    {
      "cell_type": "code",
      "source": [
        "#set the model to use the target device\n",
        "model_1.to(device)\n",
        "next(model_1.parameters()).device"
      ],
      "metadata": {
        "colab": {
          "base_uri": "https://localhost:8080/"
        },
        "id": "glER5BsGC6dC",
        "outputId": "0083829d-0772-4a0f-d174-e663ae573558"
      },
      "execution_count": 99,
      "outputs": [
        {
          "output_type": "execute_result",
          "data": {
            "text/plain": [
              "device(type='cuda', index=0)"
            ]
          },
          "metadata": {},
          "execution_count": 99
        }
      ]
    },
    {
      "cell_type": "markdown",
      "source": [
        "### 6.3 training\n",
        "\n",
        "for training, we need:\n",
        "\n",
        "    *Loss function\n",
        "    *optimizer\n",
        "    *training loop\n",
        "    *testing loop"
      ],
      "metadata": {
        "id": "69r-G_1zEft3"
      }
    },
    {
      "cell_type": "code",
      "source": [
        "# setup loss function\n",
        "loss_fn = nn.L1Loss() # same as MAE\n",
        "\n",
        "#setup our optimizer\n",
        "optimizer = torch.optim.SGD(params= model_1.parameters(),\n",
        "                            lr = 0.01)\n"
      ],
      "metadata": {
        "id": "oTOELHVFE6PQ"
      },
      "execution_count": 100,
      "outputs": []
    },
    {
      "cell_type": "code",
      "source": [
        "#lets write a training loop\n",
        "torch.manual_seed(42)\n",
        "\n",
        "epochs = 200\n",
        "\n",
        "#put data on the target data (put data on the same device)\n",
        "X_train = X_train.to(device)\n",
        "X_test = X_test.to(device)\n",
        "y_test = y_test.to(device)\n",
        "y_train = y_train.to(device)\n",
        "\n",
        "\n",
        "for epoch in range(epochs):\n",
        "    model_1.train()\n",
        "\n",
        "    #1. forward pass\n",
        "    y_pred = model_1(X_train)\n",
        "\n",
        "    # calculate the loss\n",
        "    loss = loss_fn(y_pred, y_train)\n",
        "\n",
        "    #3. optimizer zero grad\n",
        "    optimizer.zero_grad()\n",
        "\n",
        "    #4. back propagation\n",
        "    loss.backward()\n",
        "\n",
        "    # optimize step\n",
        "    optimizer.step()\n",
        "\n",
        "    #testing.\n",
        "    model_1.eval()\n",
        "    with torch.inference_mode(): # turns out gradient tracking\n",
        "        test_pred = model_1(X_test)\n",
        "        test_loss = loss_fn(test_pred, y_test)\n",
        "\n",
        "    #print out whats happening\n",
        "    if epoch % 10 == 0:\n",
        "        print(f'epoch: {epoch} <--> loss: {loss} <--> test-loss: {test_loss}')"
      ],
      "metadata": {
        "colab": {
          "base_uri": "https://localhost:8080/"
        },
        "id": "A4s98jUBGK8q",
        "outputId": "ad69a448-03d2-4c58-d1a9-6954a21bc95f"
      },
      "execution_count": 101,
      "outputs": [
        {
          "output_type": "stream",
          "name": "stdout",
          "text": [
            "epoch: 0 <--> loss: 0.6161779165267944 <--> test-loss: 0.5849762558937073\n",
            "epoch: 10 <--> loss: 0.5009680986404419 <--> test-loss: 0.45026642084121704\n",
            "epoch: 20 <--> loss: 0.3857581913471222 <--> test-loss: 0.3155565857887268\n",
            "epoch: 30 <--> loss: 0.2705483138561249 <--> test-loss: 0.180846706032753\n",
            "epoch: 40 <--> loss: 0.15533843636512756 <--> test-loss: 0.046136897057294846\n",
            "epoch: 50 <--> loss: 0.05875825881958008 <--> test-loss: 0.06886561214923859\n",
            "epoch: 60 <--> loss: 0.04580378159880638 <--> test-loss: 0.09473040699958801\n",
            "epoch: 70 <--> loss: 0.041819483041763306 <--> test-loss: 0.09405827522277832\n",
            "epoch: 80 <--> loss: 0.03831038996577263 <--> test-loss: 0.08853326737880707\n",
            "epoch: 90 <--> loss: 0.034879546612501144 <--> test-loss: 0.08094760775566101\n",
            "epoch: 100 <--> loss: 0.03144557774066925 <--> test-loss: 0.07267507165670395\n",
            "epoch: 110 <--> loss: 0.028006771579384804 <--> test-loss: 0.06440252810716629\n",
            "epoch: 120 <--> loss: 0.024577612057328224 <--> test-loss: 0.056816864758729935\n",
            "epoch: 130 <--> loss: 0.021141953766345978 <--> test-loss: 0.04854437708854675\n",
            "epoch: 140 <--> loss: 0.017704110592603683 <--> test-loss: 0.040958791971206665\n",
            "epoch: 150 <--> loss: 0.014275657944381237 <--> test-loss: 0.03268631175160408\n",
            "epoch: 160 <--> loss: 0.010838326066732407 <--> test-loss: 0.02441384270787239\n",
            "epoch: 170 <--> loss: 0.007402162533253431 <--> test-loss: 0.016828244552016258\n",
            "epoch: 180 <--> loss: 0.0039735035970807076 <--> test-loss: 0.008555757813155651\n",
            "epoch: 190 <--> loss: 0.008990190923213959 <--> test-loss: 0.005145949311554432\n"
          ]
        }
      ]
    },
    {
      "cell_type": "code",
      "source": [
        "model_1.state_dict()"
      ],
      "metadata": {
        "colab": {
          "base_uri": "https://localhost:8080/"
        },
        "id": "_4S6pKtXJJ3R",
        "outputId": "02adb37c-7527-483f-b73d-4d3a5160009d"
      },
      "execution_count": 102,
      "outputs": [
        {
          "output_type": "execute_result",
          "data": {
            "text/plain": [
              "OrderedDict([('linear_layer.weight', tensor([[0.7987]], device='cuda:0')),\n",
              "             ('linear_layer.bias', tensor([0.2095], device='cuda:0'))])"
            ]
          },
          "metadata": {},
          "execution_count": 102
        }
      ]
    },
    {
      "cell_type": "code",
      "source": [
        "#turn model into evaluation mode\n",
        "model_1.eval()\n",
        "\n",
        "# make predictions on the test data\n",
        "with torch.inference_mode():\n",
        "    y_preds = model_1(X_test)\n",
        "y_preds # we evaluate on the test data"
      ],
      "metadata": {
        "colab": {
          "base_uri": "https://localhost:8080/"
        },
        "id": "KiIMeFRBJ_9s",
        "outputId": "9e5ccfb7-0916-48ff-9c23-fe3c2f14e08d"
      },
      "execution_count": 103,
      "outputs": [
        {
          "output_type": "execute_result",
          "data": {
            "text/plain": [
              "tensor([[0.8484],\n",
              "        [0.8644],\n",
              "        [0.8804],\n",
              "        [0.8964],\n",
              "        [0.9123],\n",
              "        [0.9283],\n",
              "        [0.9443],\n",
              "        [0.9603],\n",
              "        [0.9762],\n",
              "        [0.9922]], device='cuda:0')"
            ]
          },
          "metadata": {},
          "execution_count": 103
        }
      ]
    },
    {
      "cell_type": "code",
      "source": [
        "#check out our model predictabilty\n",
        "plot_predictions(predictions = y_preds.cpu())"
      ],
      "metadata": {
        "colab": {
          "base_uri": "https://localhost:8080/",
          "height": 599
        },
        "id": "rK5wcUvqJUj8",
        "outputId": "2b3c4ff7-78bd-4af5-e2be-a032023912ef"
      },
      "execution_count": 104,
      "outputs": [
        {
          "output_type": "display_data",
          "data": {
            "text/plain": [
              "<Figure size 1000x700 with 1 Axes>"
            ],
            "image/png": "[encoded data removed]"
          },
          "metadata": {}
        }
      ]
    },
    {
      "cell_type": "markdown",
      "source": [
        "### saving and loading model"
      ],
      "metadata": {
        "id": "Pb0mM6u8K5he"
      }
    },
    {
      "cell_type": "code",
      "source": [
        "from pathlib import Path as path\n",
        "\n",
        "#1. create  models directory\n",
        "MODEL_PATH = path('models')\n",
        "MODEL_PATH.mkdir(parents=True, exist_ok=True)\n",
        "\n",
        "#2. creat model save path\n",
        "MODEL_NAME = '01_pytorch_model_1.pth'\n",
        "MODEL_SAVE_PATH = MODEL_PATH / MODEL_NAME\n",
        "\n",
        "#3. save the model state dict\n",
        "print(f'saving model to: {MODEL_SAVE_PATH}')\n",
        "torch.save(obj=model_1.state_dict(),\n",
        "           f = MODEL_SAVE_PATH)"
      ],
      "metadata": {
        "colab": {
          "base_uri": "https://localhost:8080/"
        },
        "id": "VIKFfnzqN9NL",
        "outputId": "2b4e2b2f-3c10-44d7-de27-352cbf22aaf3"
      },
      "execution_count": 108,
      "outputs": [
        {
          "output_type": "stream",
          "name": "stdout",
          "text": [
            "saving model to: models/01_pytorch_model_1.pth\n"
          ]
        }
      ]
    },
    {
      "cell_type": "code",
      "source": [
        "model_1.state_dict()"
      ],
      "metadata": {
        "colab": {
          "base_uri": "https://localhost:8080/"
        },
        "id": "PTcE8s9OO_H0",
        "outputId": "41bf8e35-df93-40ab-94ee-5aecee908c03"
      },
      "execution_count": 109,
      "outputs": [
        {
          "output_type": "execute_result",
          "data": {
            "text/plain": [
              "OrderedDict([('linear_layer.weight', tensor([[0.7987]], device='cuda:0')),\n",
              "             ('linear_layer.bias', tensor([0.2095], device='cuda:0'))])"
            ]
          },
          "metadata": {},
          "execution_count": 109
        }
      ]
    },
    {
      "cell_type": "code",
      "source": [
        "#load a pytorch model\n",
        "\n",
        "#create a new instance of linear regression model V2\n",
        "loaded_model_1 = LinearRegressionModelV2()\n",
        "\n",
        "#load the saved model_1 state_dict\n",
        "loaded_model_1.load_state_dict(torch.load(MODEL_SAVE_PATH))\n",
        "\n",
        "#put the loaded model to device\n",
        "loaded_model_1.to(device)"
      ],
      "metadata": {
        "colab": {
          "base_uri": "https://localhost:8080/"
        },
        "id": "_uoHNrryP9Xx",
        "outputId": "99d0932b-dd24-43fd-d203-36fcd0ab8a8b"
      },
      "execution_count": 112,
      "outputs": [
        {
          "output_type": "execute_result",
          "data": {
            "text/plain": [
              "LinearRegressionModelV2(\n",
              "  (linear_layer): Linear(in_features=1, out_features=1, bias=True)\n",
              ")"
            ]
          },
          "metadata": {},
          "execution_count": 112
        }
      ]
    },
    {
      "cell_type": "code",
      "source": [
        "loaded_model_1.state_dict()"
      ],
      "metadata": {
        "colab": {
          "base_uri": "https://localhost:8080/"
        },
        "id": "6btKf5eARF0j",
        "outputId": "6f4c5d43-ed89-4c5e-ce9a-f5c95cc7d865"
      },
      "execution_count": 113,
      "outputs": [
        {
          "output_type": "execute_result",
          "data": {
            "text/plain": [
              "OrderedDict([('linear_layer.weight', tensor([[0.7987]], device='cuda:0')),\n",
              "             ('linear_layer.bias', tensor([0.2095], device='cuda:0'))])"
            ]
          },
          "metadata": {},
          "execution_count": 113
        }
      ]
    },
    {
      "cell_type": "code",
      "source": [
        "#evaluate loaded model\n",
        "loaded_model_1.eval()\n",
        "with torch.inference_mode():\n",
        "    loaded_model_1_preds = loaded_model_1(X_test)\n",
        "y_preds == loaded_model_1_preds"
      ],
      "metadata": {
        "colab": {
          "base_uri": "https://localhost:8080/"
        },
        "id": "jBv4f4VsRz2o",
        "outputId": "dd144c87-52d1-4135-b74e-21b059618094"
      },
      "execution_count": 114,
      "outputs": [
        {
          "output_type": "execute_result",
          "data": {
            "text/plain": [
              "tensor([[True],\n",
              "        [True],\n",
              "        [True],\n",
              "        [True],\n",
              "        [True],\n",
              "        [True],\n",
              "        [True],\n",
              "        [True],\n",
              "        [True],\n",
              "        [True]], device='cuda:0')"
            ]
          },
          "metadata": {},
          "execution_count": 114
        }
      ]
    },
    {
      "cell_type": "code",
      "source": [],
      "metadata": {
        "id": "A9kGGIYjSZ6p"
      },
      "execution_count": null,
      "outputs": []
    }
  ]
}